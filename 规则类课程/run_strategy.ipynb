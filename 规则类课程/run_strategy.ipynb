{
 "cells": [
  {
   "cell_type": "code",
   "execution_count": null,
   "metadata": {},
   "outputs": [],
   "source": [
    "import crypto_process\n",
    "# import puppyV2_strategy\n",
    "from Stategy import puppy_strategy as strategy  # 修改这一行\n",
    "\n",
    "start_month = '2023-1'\n",
    "end_month = '2025-3'\n",
    "freq = '1h'\n",
    "z_original = crypto_process.load_data(start_month,end_month)\n",
    "z_resampled = crypto_process.resample_data(z_original,freq)\n",
    "z_resampled = crypto_process.clean_data(z_resampled)\n",
    "\n",
    "# z = puppy_strategy.preprocess_data(z_resampled)\n",
    "# data_price,transaction = puppy_strategy.run_strategy(z) \n",
    "z = strategy.preprocess_data(z_resampled)\n",
    "\n",
    "\n",
    "data_price,transaction = strategy.run_strategy(z)\n",
    "\n"
   ]
  },
  {
   "cell_type": "code",
   "execution_count": null,
   "metadata": {},
   "outputs": [],
   "source": [
    "data_price.nav.plot()\n",
    "from detailed_analysis import generate_detailed_report\n",
    "\n",
    "generate_detailed_report(data_price, transaction)\n"
   ]
  },
  {
   "cell_type": "code",
   "execution_count": null,
   "metadata": {},
   "outputs": [],
   "source": [
    "print(data_price.to_string())\n"
   ]
  },
  {
   "cell_type": "code",
   "execution_count": null,
   "metadata": {},
   "outputs": [],
   "source": [
    "import pandas as pd\n",
    "import talib as ta\n",
    "import numpy as np\n",
    "\n",
    "def calculate_performance_metrics(data_price:pd.DataFrame,transactions:pd.DataFrame) -> pd.DataFrame:\n",
    "    '''计算绩效指标'''\n",
    "    N = 365  # 一年的交易天数,国内的期货和股票都是252个交易日左右，加密货币365天\n",
    "    rf = 0.02 # risk free rate，无风险收益率\n",
    "\n",
    "    # 年化收益率\n",
    "    rety = data_price.nav.iloc[-1]**(N/data_price.shape[0]) - 1\n",
    "\n",
    "    # ========================重点2===========================\n",
    "    # 夏普比率\n",
    "    strategy_returns = data_price.ret * data_price.position  # 下一节课详细讲解\n",
    "    # 记住年化夏普比率的公式\n",
    "    sharpe = (strategy_returns.mean() * N - rf) / (strategy_returns.std() * np.sqrt(N))\n",
    "\n",
    "    # 胜率\n",
    "    VictoryRatio = ((transactions['卖出价格'] - transactions['买入价格']) > 0).mean()\n",
    "\n",
    "    # 最大回撤\n",
    "    DD = 1 - data_price.nav / data_price.nav.cummax()  # drawdown\n",
    "    MDD = DD.max()  # maximum drawdown\n",
    "\n",
    "    # 月均交易次数\n",
    "    trade_count = data_price.flag.abs().sum() / data_price.shape[0] * 20\n",
    "\n",
    "    # 将结果整理成字典\n",
    "    result = {\n",
    "        'Sharpe': sharpe, # 夏普比率\n",
    "        'Annual_Return': rety, # 年化收益率\n",
    "        'MDD': MDD,  # 最大回撤\n",
    "        'Winning_Rate': VictoryRatio,  # 胜率\n",
    "        'Trading_Num': round(trade_count, 1) # 月均交易次数\n",
    "    }\n",
    "    \n",
    "    return pd.DataFrame(result, index=[0])\n"
   ]
  },
  {
   "cell_type": "code",
   "execution_count": null,
   "metadata": {},
   "outputs": [],
   "source": [
    "result = calculate_performance_metrics(data_price,transaction)"
   ]
  },
  {
   "cell_type": "code",
   "execution_count": null,
   "metadata": {},
   "outputs": [],
   "source": [
    "result"
   ]
  },
  {
   "cell_type": "code",
   "execution_count": null,
   "metadata": {},
   "outputs": [],
   "source": [
    "flag = z['flag']"
   ]
  },
  {
   "cell_type": "code",
   "execution_count": null,
   "metadata": {},
   "outputs": [],
   "source": [
    "price_ = z[['close','high','low','open']]"
   ]
  },
  {
   "cell_type": "code",
   "execution_count": null,
   "metadata": {},
   "outputs": [],
   "source": [
    "import matplotlib.pyplot as plt\n",
    "\n",
    "fig, ax = plt.subplots(figsize=(14,6))\n",
    "ax.plot(z.index, z['close'], label='Close')\n",
    "\n",
    "# 标记开仓和平仓点\n",
    "ax.scatter(z[z['flag'] == 1].index, z[z['flag'] == 1]['close'], marker='^', color='red', label='Buy', s=100)\n",
    "ax.scatter(z[z['flag'] == -1].index, z[z['flag'] == -1]['close'], marker='v', color='green', label='Sell', s=100)\n",
    "\n",
    "ax.legend()\n",
    "plt.title(\"trading signal\")\n",
    "plt.grid(True)\n",
    "plt.show()\n"
   ]
  },
  {
   "cell_type": "code",
   "execution_count": null,
   "metadata": {},
   "outputs": [],
   "source": [
    "# 1.掌握事件触发回测框架\n",
    "# 2.理解复利和单利的区别"
   ]
  }
 ],
 "metadata": {
  "kernelspec": {
   "display_name": "Python 3",
   "language": "python",
   "name": "python3"
  },
  "language_info": {
   "codemirror_mode": {
    "name": "ipython",
    "version": 3
   },
   "file_extension": ".py",
   "mimetype": "text/x-python",
   "name": "python",
   "nbconvert_exporter": "python",
   "pygments_lexer": "ipython3",
   "version": "3.9.23"
  }
 },
 "nbformat": 4,
 "nbformat_minor": 2
}
