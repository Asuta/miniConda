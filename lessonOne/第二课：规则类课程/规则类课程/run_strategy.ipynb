{
 "cells": [
  {
   "cell_type": "code",
   "execution_count": null,
   "metadata": {},
   "outputs": [],
   "source": [
    "import pandas as pd\n",
    "import talib as ta\n",
    "import numpy as np\n",
    "\n",
    "def preprocess_data(z_: pd.DataFrame) -> pd.DataFrame:\n",
    "    \"\"\"数据预处理：计算收益率、波动率、ATR\"\"\"\n",
    "    z = z_.copy()\n",
    "    z['ret'] = z['close'].pct_change().fillna(0)\n",
    "    # 波动率校正后的收益率，夏普比率的变形\n",
    "    z['rolling_ret'] = z['close'].pct_change(periods=10).fillna(0)  # 滚动计算过去10个周期的ret\n",
    "    z['rolling_vol'] = z['ret'].rolling(window=10).std().fillna(1e-6)  # 滚动计算过去10个周期的波动率\n",
    "    z['signal_strength'] = z['rolling_ret'] / z['rolling_vol']\n",
    "    z['atr'] = ta.ATR(z['high'], z['low'], z['close'], timeperiod=14)\n",
    "    z['position'] = 0.0\n",
    "    z['flag'] = 0.0\n",
    "    return z\n",
    "\n",
    "def run_strategy(z: pd.DataFrame) -> tuple:\n",
    "    Buy, Sell = [], []\n",
    "    max_price = 0\n",
    "    atr_entry = 0\n",
    "    price_in = 0\n",
    "\n",
    "    for i in range(10, len(z)):\n",
    "        signal = z['signal_strength'][i]\n",
    "\n",
    "        # ✅ 开仓逻辑：信号强度 > 0.5\n",
    "        if z['position'][i - 1] == 0 and signal > 0.5:\n",
    "            z.at[z.index[i], 'flag'] = 1\n",
    "            z.at[z.index[i], 'position'] = 1\n",
    "            # TODO open价格开仓的局限性——股票\n",
    "            price_in = z['close'][i]  # 记录开仓价格\n",
    "            date_in = z.index[i]  # 记录开仓的时间\n",
    "            atr_entry = z['atr'][i]\n",
    "            max_price = z['close'][i]\n",
    "            Buy.append([date_in, price_in, f'开仓: signal={signal:.2f}, ATR={atr_entry:.2f}'])\n",
    "            print(z.index[i], f'【开仓】信号={signal:.2f}，ATR={atr_entry:.2f}')\n",
    "\n",
    "        # ✅ 平仓逻辑（有仓位时）\n",
    "        elif z['position'][i - 1] == 1:\n",
    "            current_price = z['close'][i]\n",
    "            max_price = max(max_price, current_price)\n",
    "            floating_profit = (current_price - price_in) / price_in\n",
    "            floating_drawdown = (max_price - current_price) / max_price  # 止盈用\n",
    "            drawdown_atr = price_in - current_price  # ✅ 用于止损\n",
    "\n",
    "            # ✅ 止损条件：开仓价 - 当前价 > 2ATR\n",
    "            if drawdown_atr > 2 * atr_entry:\n",
    "                z.at[z.index[i], 'flag'] = -1\n",
    "                z.at[z.index[i], 'position'] = 0\n",
    "                price_out = z['close'][i]\n",
    "                date_out = z.index[i]\n",
    "                Sell.append([date_out, price_out, f'止损: 跌幅={drawdown_atr:.2f} > 2ATR={2*atr_entry:.2f}'])\n",
    "                print(z.index[i], f'【止损】当前价格较开仓价下跌{drawdown_atr:.2f} > 2ATR')\n",
    "\n",
    "            # ✅ 止盈条件：从最高浮盈回撤超10%\n",
    "            # 不跌破40日均线不离场\n",
    "            # 仓位的逐步增减，盘中动量衰减，平掉1/3的仓位，利润回撤接近最大阈值，那么全平\n",
    "            elif floating_profit > 0 and floating_drawdown > 0.10: \n",
    "                z.at[z.index[i], 'flag'] = -1\n",
    "                z.at[z.index[i], 'position'] = 0\n",
    "                price_out = z['close'][i]\n",
    "                date_out = z.index[i]\n",
    "                Sell.append([date_out, price_out, f'止盈: 回撤={floating_drawdown:.2%}'])\n",
    "                print(z.index[i], f'【止盈】浮盈回撤={floating_drawdown:.2%} > 10%')\n",
    "\n",
    "            else:\n",
    "                z.at[z.index[i], 'position'] = z['position'][i - 1]\n",
    "                print(z.index[i], f'持仓中，当前浮盈={floating_profit:.2%}')\n",
    "\n",
    "\n",
    "    # 交易记录整理\n",
    "    p1 = pd.DataFrame(Buy, columns=['买入日期', '买入价格', '备注'])\n",
    "    p2 = pd.DataFrame(Sell, columns=['卖出日期', '卖出价格', '备注'])\n",
    "    transaction = pd.concat([p1, p2], axis=1)\n",
    "\n",
    "    # 净值计算\n",
    "    z['ret'] = z['close'].pct_change().fillna(0)\n",
    "    z['nav'] = 1 + (z['ret'] * z['position']).cumsum()  # 单利的计算\n",
    "    z['benchmark'] = z['close'] / z['close'].iloc[0]\n",
    "\n",
    "    return z, transaction\n"
   ]
  },
  {
   "cell_type": "code",
   "execution_count": null,
   "metadata": {},
   "outputs": [],
   "source": [
    "import crypto_process\n",
    "start_month = '2023-01'\n",
    "end_month = '2024-09'\n",
    "freq = '1d'\n",
    "z_original = crypto_process.load_data(start_month,end_month)\n",
    "z_resampled = crypto_process.resample_data(z_original,freq)\n",
    "z = preprocess_data(z_resampled)\n",
    "# 第二部分 运行策略\n",
    "data_price,transaction = run_strategy(z) "
   ]
  },
  {
   "cell_type": "code",
   "execution_count": null,
   "metadata": {},
   "outputs": [],
   "source": [
    "data_price.nav.plot()"
   ]
  },
  {
   "cell_type": "code",
   "execution_count": null,
   "metadata": {},
   "outputs": [],
   "source": [
    "def calculate_performance_metrics(data_price:pd.DataFrame,transactions:pd.DataFrame) -> pd.DataFrame:\n",
    "    '''计算绩效指标'''\n",
    "    N = 365  # 一年的交易天数,国内的期货和股票都是252个交易日左右，加密货币365天\n",
    "    rf = 0.02 # risk free rate，无风险收益率\n",
    "\n",
    "    # 年化收益率\n",
    "    rety = data_price.nav.iloc[-1]**(N/data_price.shape[0]) - 1\n",
    "\n",
    "    # ========================重点2===========================\n",
    "    # 夏普比率\n",
    "    strategy_returns = data_price.ret * data_price.position  # 下一节课详细讲解\n",
    "    # 记住年化夏普比率的公式\n",
    "    sharpe = (strategy_returns.mean() * N - rf) / (strategy_returns.std() * np.sqrt(N))\n",
    "\n",
    "    # 胜率\n",
    "    VictoryRatio = ((transactions['卖出价格'] - transactions['买入价格']) > 0).mean()\n",
    "\n",
    "    # 最大回撤\n",
    "    DD = 1 - data_price.nav / data_price.nav.cummax()  # drawdown\n",
    "    MDD = DD.max()  # maximum drawdown\n",
    "\n",
    "    # 月均交易次数\n",
    "    trade_count = data_price.flag.abs().sum() / data_price.shape[0] * 20\n",
    "\n",
    "    # 将结果整理成字典\n",
    "    result = {\n",
    "        'Sharpe': sharpe, # 夏普比率\n",
    "        'Annual_Return': rety, # 年化收益率\n",
    "        'MDD': MDD,  # 最大回撤\n",
    "        'Winning_Rate': VictoryRatio,  # 胜率\n",
    "        'Trading_Num': round(trade_count, 1) # 月均交易次数\n",
    "    }\n",
    "    \n",
    "    return pd.DataFrame(result, index=[0])\n"
   ]
  },
  {
   "cell_type": "code",
   "execution_count": null,
   "metadata": {},
   "outputs": [],
   "source": [
    "result = calculate_performance_metrics(data_price,transaction)"
   ]
  },
  {
   "cell_type": "code",
   "execution_count": null,
   "metadata": {},
   "outputs": [],
   "source": [
    "result"
   ]
  },
  {
   "cell_type": "code",
   "execution_count": null,
   "metadata": {},
   "outputs": [],
   "source": [
    "flag = z['flag']"
   ]
  },
  {
   "cell_type": "code",
   "execution_count": null,
   "metadata": {},
   "outputs": [],
   "source": [
    "price_ = z[['close','high','low','open']]"
   ]
  },
  {
   "cell_type": "code",
   "execution_count": null,
   "metadata": {},
   "outputs": [],
   "source": [
    "import matplotlib.pyplot as plt\n",
    "\n",
    "fig, ax = plt.subplots(figsize=(14,6))\n",
    "ax.plot(z.index, z['close'], label='Close')\n",
    "\n",
    "# 标记开仓和平仓点\n",
    "ax.scatter(z[z['flag'] == 1].index, z[z['flag'] == 1]['close'], marker='^', color='red', label='Buy', s=100)\n",
    "ax.scatter(z[z['flag'] == -1].index, z[z['flag'] == -1]['close'], marker='v', color='green', label='Sell', s=100)\n",
    "\n",
    "ax.legend()\n",
    "plt.title(\"trading signal\")\n",
    "plt.grid(True)\n",
    "plt.show()\n"
   ]
  },
  {
   "cell_type": "code",
   "execution_count": null,
   "metadata": {},
   "outputs": [],
   "source": [
    "# 1.掌握事件触发回测框架\n",
    "# 2.理解复利和单利的区别"
   ]
  }
 ],
 "metadata": {
  "kernelspec": {
   "display_name": "Python 3",
   "language": "python",
   "name": "python3"
  },
  "language_info": {
   "codemirror_mode": {
    "name": "ipython",
    "version": 3
   },
   "file_extension": ".py",
   "mimetype": "text/x-python",
   "name": "python",
   "nbconvert_exporter": "python",
   "pygments_lexer": "ipython3",
   "version": "3.9.23"
  }
 },
 "nbformat": 4,
 "nbformat_minor": 2
}
